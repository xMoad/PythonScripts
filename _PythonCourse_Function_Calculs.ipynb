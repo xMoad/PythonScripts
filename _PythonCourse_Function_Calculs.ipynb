{
  "nbformat": 4,
  "nbformat_minor": 0,
  "metadata": {
    "colab": {
      "provenance": [],
      "authorship_tag": "ABX9TyPkPTjLVRnBdZumAsyCBWa/",
      "include_colab_link": true
    },
    "kernelspec": {
      "name": "python3",
      "display_name": "Python 3"
    },
    "language_info": {
      "name": "python"
    }
  },
  "cells": [
    {
      "cell_type": "markdown",
      "metadata": {
        "id": "view-in-github",
        "colab_type": "text"
      },
      "source": [
        "<a href=\"https://colab.research.google.com/github/xMoad/PythonScripts/blob/main/_PythonCourse_Function_Calculs.ipynb\" target=\"_parent\"><img src=\"https://colab.research.google.com/assets/colab-badge.svg\" alt=\"Open In Colab\"/></a>"
      ]
    },
    {
      "cell_type": "code",
      "execution_count": null,
      "metadata": {
        "id": "EnE4BfL9N4aE"
      },
      "outputs": [],
      "source": [
        "def add(x, y):\n",
        "    return x + y\n",
        "\n",
        "def subtract(x, y):\n",
        "    return x - y\n",
        "\n",
        "def multiply(x, y):\n",
        "    return x * y\n",
        "\n",
        "def divide(x, y):\n",
        "    if y == 0:\n",
        "        return \"Error: Division by zero is not allowed.\"\n",
        "    return x / y\n",
        "\n",
        "def modulus(x, y):\n",
        "    return x % y\n",
        "\n",
        "def main():\n",
        "    print(\"Welcome to the basic calculator program!\")\n",
        "\n",
        "    while True:\n",
        "        try:\n",
        "            num1 = float(input(\"Enter a numeric value: \"))  # First numeric value\n",
        "            num2 = float(input(\"Enter another numeric value: \"))  # Second numeric value\n",
        "        except ValueError:\n",
        "            print(\"Invalid input! Please enter numeric values.\")\n",
        "            continue\n",
        "\n",
        "        operator = input(\"Enter arithmetic operator (+, -, /, *, %): \")  # Arithmetic operator\n",
        "\n",
        "        if operator not in ['+', '-', '*', '/', '%']:\n",
        "            print(\"Invalid operator! Please enter +, -, *, /, or %.\")\n",
        "            continue\n",
        "\n",
        "        if operator == '+':\n",
        "            result = add(num1, num2)\n",
        "        elif operator == '-':\n",
        "            result = subtract(num1, num2)\n",
        "        elif operator == '*':\n",
        "            result = multiply(num1, num2)\n",
        "        elif operator == '/':\n",
        "            result = divide(num1, num2)\n",
        "        elif operator == '%':\n",
        "            result = modulus(num1, num2)\n",
        "\n",
        "        print(f\"The result is: {result}\\n\")  # Display the result\n",
        "\n",
        "        # Ask if the user wants to perform another calculation\n",
        "        again = input(\"Do you want to perform another calculation? (yes/no): \").strip().lower()\n",
        "        if again != 'yes':\n",
        "            print(\"Exiting the calculator. Goodbye!\")\n",
        "            break\n",
        "\n",
        "if __name__ == \"__main__\":\n",
        "    main()"
      ]
    }
  ]
}